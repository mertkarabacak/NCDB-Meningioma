{
 "cells": [
  {
   "cell_type": "code",
   "execution_count": null,
   "id": "4AZmJ6jfWEN4",
   "metadata": {
    "colab": {
     "base_uri": "https://localhost:8080/"
    },
    "executionInfo": {
     "elapsed": 1484,
     "status": "ok",
     "timestamp": 1691023186659,
     "user": {
      "displayName": "Mert Karabacak",
      "userId": "14308977132914475412"
     },
     "user_tz": 240
    },
    "id": "4AZmJ6jfWEN4",
    "outputId": "2e5c4aa6-f742-48b5-c08d-164aa4815e5a"
   },
   "outputs": [],
   "source": [
    "from google.colab import drive\n",
    "drive.mount('/content/drive')"
   ]
  },
  {
   "cell_type": "code",
   "execution_count": null,
   "id": "45bff18b",
   "metadata": {
    "id": "45bff18b"
   },
   "outputs": [],
   "source": [
    "import numpy as np\n",
    "import pandas as pd\n",
    "from pandas.api.types import CategoricalDtype\n",
    "\n",
    "from sklearn.preprocessing import LabelEncoder\n",
    "from sklearn.preprocessing import MinMaxScaler\n",
    "from sklearn.impute import KNNImputer\n",
    "\n",
    "from matplotlib import pyplot as plt\n",
    "\n",
    "pd.set_option('display.max_rows', None)"
   ]
  },
  {
   "cell_type": "code",
   "execution_count": null,
   "id": "721c822b",
   "metadata": {
    "colab": {
     "base_uri": "https://localhost:8080/"
    },
    "executionInfo": {
     "elapsed": 18413,
     "status": "ok",
     "timestamp": 1691023206358,
     "user": {
      "displayName": "Mert Karabacak",
      "userId": "14308977132914475412"
     },
     "user_tz": 240
    },
    "id": "721c822b",
    "outputId": "166a37d4-9792-4c4a-ff81-9eea00566795"
   },
   "outputs": [],
   "source": [
    "#Open csv file.\n",
    "\n",
    "data = pd.read_csv(\"/content/drive/MyDrive/NCDB-PUFs/CNS - 2020 (Labeled).csv\", index_col='PUF_CASE_ID')\n",
    "data.shape"
   ]
  },
  {
   "cell_type": "code",
   "execution_count": null,
   "id": "2ddf793b",
   "metadata": {
    "colab": {
     "base_uri": "https://localhost:8080/"
    },
    "executionInfo": {
     "elapsed": 35,
     "status": "ok",
     "timestamp": 1691023206359,
     "user": {
      "displayName": "Mert Karabacak",
      "userId": "14308977132914475412"
     },
     "user_tz": 240
    },
    "id": "2ddf793b",
    "outputId": "fc233715-f8e9-4ad9-8f54-fa6ff880f692"
   },
   "outputs": [],
   "source": [
    "#See all columns.\n",
    "\n",
    "print(list(data.columns))"
   ]
  },
  {
   "cell_type": "code",
   "execution_count": null,
   "id": "a143c94a",
   "metadata": {
    "id": "a143c94a"
   },
   "outputs": [],
   "source": [
    "#Define variables of interest (predictor variables, inclusion/exclusion criteria, outcomes of interest).\n",
    "\n",
    "variables = ['DIAGNOSTIC_CONFIRMATION', 'FACILITY_TYPE_CD', 'FACILITY_LOCATION_CD', 'AGE', 'SEX', 'RACE', 'SPANISH_HISPANIC_ORIGIN', 'INSURANCE_STATUS', 'YEAR_OF_DIAGNOSIS', 'CDCC_TOTAL_BEST', 'HISTOLOGY', 'PRIMARY_SITE', 'LATERALITY', 'DIAGNOSTIC_BIOPSY', 'CS_SITESPECIFIC_FACTOR_1', 'CS_SITESPECIFIC_FACTOR_2', 'CS_SITESPECIFIC_FACTOR_3', 'CS_SITESPECIFIC_FACTOR_8', 'TUMOR_SIZE', 'RX_SUMM_SURG_PRIM_SITE', 'PHASE_I_COMBINED', 'PHASE_II_COMBINED', 'PHASE_III_COMBINED', 'DX_LASTCONTACT_DEATH_MONTHS', 'PUF_VITAL_STATUS']"
   ]
  },
  {
   "cell_type": "code",
   "execution_count": null,
   "id": "a21a408c",
   "metadata": {
    "colab": {
     "base_uri": "https://localhost:8080/"
    },
    "executionInfo": {
     "elapsed": 23,
     "status": "ok",
     "timestamp": 1691023206360,
     "user": {
      "displayName": "Mert Karabacak",
      "userId": "14308977132914475412"
     },
     "user_tz": 240
    },
    "id": "a21a408c",
    "outputId": "bb470ce9-813d-4e97-ec21-00cb9dd77a1c"
   },
   "outputs": [],
   "source": [
    "#Remove unwanted columns and check data shape.\n",
    "\n",
    "data = data[variables]\n",
    "\n",
    "data.shape"
   ]
  },
  {
   "cell_type": "markdown",
   "id": "cMoxIKULpbsk",
   "metadata": {
    "id": "cMoxIKULpbsk"
   },
   "source": [
    "#Inclusion Criteria"
   ]
  },
  {
   "cell_type": "code",
   "execution_count": null,
   "id": "120235be",
   "metadata": {
    "colab": {
     "base_uri": "https://localhost:8080/"
    },
    "executionInfo": {
     "elapsed": 15,
     "status": "ok",
     "timestamp": 1691023206360,
     "user": {
      "displayName": "Mert Karabacak",
      "userId": "14308977132914475412"
     },
     "user_tz": 240
    },
    "id": "120235be",
    "outputId": "74e3e159-1293-47d8-d420-8e7a018b0929"
   },
   "outputs": [],
   "source": [
    "#Identify meningioma patients with ICD-O-3 codes.\n",
    "\n",
    "icd_codes = [9530, 9531, 9532, 9533, 9534, 9535, 9537, 9538, 9539]\n",
    "data = data[data[['HISTOLOGY']].isin(icd_codes).any(axis=1)]\n",
    "\n",
    "print('Number of included patients:', data.shape[0])"
   ]
  },
  {
   "cell_type": "code",
   "execution_count": null,
   "id": "9oMpuu7HdDh-",
   "metadata": {
    "colab": {
     "base_uri": "https://localhost:8080/"
    },
    "executionInfo": {
     "elapsed": 479,
     "status": "ok",
     "timestamp": 1691023206828,
     "user": {
      "displayName": "Mert Karabacak",
      "userId": "14308977132914475412"
     },
     "user_tz": 240
    },
    "id": "9oMpuu7HdDh-",
    "outputId": "e889f6a5-ba52-44c6-baa9-25e529dcb3c8"
   },
   "outputs": [],
   "source": [
    "#Confirm the histology codes with 'CS_SITESPECIFIC_FACTOR_1'.\n",
    "\n",
    "data = data[(data['CS_SITESPECIFIC_FACTOR_1'] == 'Grade II') | (data['CS_SITESPECIFIC_FACTOR_1'] == 'Grade III')]\n",
    "\n",
    "print('Number of included patients:', data.shape[0])"
   ]
  },
  {
   "cell_type": "code",
   "execution_count": null,
   "id": "p_7huaKCxJ8b",
   "metadata": {
    "colab": {
     "base_uri": "https://localhost:8080/"
    },
    "executionInfo": {
     "elapsed": 66,
     "status": "ok",
     "timestamp": 1691023206828,
     "user": {
      "displayName": "Mert Karabacak",
      "userId": "14308977132914475412"
     },
     "user_tz": 240
    },
    "id": "p_7huaKCxJ8b",
    "outputId": "391a3aaa-8b7f-4702-d5e4-a675bbf2adca"
   },
   "outputs": [],
   "source": [
    "#Apply inclusion criteria for diagnostic confirmation.\n",
    "\n",
    "data = data[data['DIAGNOSTIC_CONFIRMATION'] == 'Positive histology']\n",
    "data = data.drop(['DIAGNOSTIC_CONFIRMATION'], axis=1)\n",
    "\n",
    "print('Number of included patients:', data.shape[0])"
   ]
  },
  {
   "cell_type": "code",
   "execution_count": null,
   "id": "JPM-uhBeTPqn",
   "metadata": {
    "colab": {
     "base_uri": "https://localhost:8080/"
    },
    "executionInfo": {
     "elapsed": 60,
     "status": "ok",
     "timestamp": 1691023206829,
     "user": {
      "displayName": "Mert Karabacak",
      "userId": "14308977132914475412"
     },
     "user_tz": 240
    },
    "id": "JPM-uhBeTPqn",
    "outputId": "797b4b3b-3c90-4ba0-f20f-a664fe163690"
   },
   "outputs": [],
   "source": [
    "#Apply inclusion criteria for 'PRIMARY_SITE'.\n",
    "\n",
    "sites = ['C700', 'C709']\n",
    "data = data[data[['PRIMARY_SITE']].isin(sites).any(axis=1)]\n",
    "data = data.drop(['PRIMARY_SITE'], axis=1)\n",
    "\n",
    "print('Number of included patients:', data.shape[0])"
   ]
  },
  {
   "cell_type": "code",
   "execution_count": null,
   "id": "cz0ZH8tOTNKI",
   "metadata": {
    "colab": {
     "base_uri": "https://localhost:8080/"
    },
    "executionInfo": {
     "elapsed": 55,
     "status": "ok",
     "timestamp": 1691023206829,
     "user": {
      "displayName": "Mert Karabacak",
      "userId": "14308977132914475412"
     },
     "user_tz": 240
    },
    "id": "cz0ZH8tOTNKI",
    "outputId": "c16d5a9e-1646-4165-e219-8fcb5d332aaf"
   },
   "outputs": [],
   "source": [
    "#Apply inclusion criteria for age.\n",
    "\n",
    "data = data[data['AGE'] > 18]\n",
    "\n",
    "print('Number of included patients:', data.shape[0])"
   ]
  },
  {
   "cell_type": "code",
   "execution_count": null,
   "id": "5ks_VuXZmQcZ",
   "metadata": {
    "colab": {
     "base_uri": "https://localhost:8080/"
    },
    "executionInfo": {
     "elapsed": 50,
     "status": "ok",
     "timestamp": 1691023206829,
     "user": {
      "displayName": "Mert Karabacak",
      "userId": "14308977132914475412"
     },
     "user_tz": 240
    },
    "id": "5ks_VuXZmQcZ",
    "outputId": "47da9eeb-cee6-4782-e21f-2fb08ffcf999"
   },
   "outputs": [],
   "source": [
    "#Apply inclusion criteria for the year of diagnosis.\n",
    "\n",
    "years = [2010, 2011, 2012, 2013, 2014, 2015, 2016, 2017]\n",
    "data = data[data[['YEAR_OF_DIAGNOSIS']].isin(years).any(axis=1)]\n",
    "data = data.drop(['YEAR_OF_DIAGNOSIS'], axis=1)\n",
    "\n",
    "print('Number of included patients:', data.shape[0])"
   ]
  },
  {
   "cell_type": "markdown",
   "id": "qp0orahPwCU-",
   "metadata": {
    "id": "qp0orahPwCU-"
   },
   "source": [
    "#Exclusion Criteria"
   ]
  },
  {
   "cell_type": "code",
   "execution_count": null,
   "id": "32oPmKOudDth",
   "metadata": {
    "colab": {
     "base_uri": "https://localhost:8080/"
    },
    "executionInfo": {
     "elapsed": 46,
     "status": "ok",
     "timestamp": 1691023206829,
     "user": {
      "displayName": "Mert Karabacak",
      "userId": "14308977132914475412"
     },
     "user_tz": 240
    },
    "id": "32oPmKOudDth",
    "outputId": "562db9f8-36e1-4a5d-cf25-408e420d841d"
   },
   "outputs": [],
   "source": [
    "#Exclude patients without outcome information.\n",
    "\n",
    "before = data.shape[0]\n",
    "data = data[data['DX_LASTCONTACT_DEATH_MONTHS'].notna()]\n",
    "data = data[(data['PUF_VITAL_STATUS'] != 'Unknown')]\n",
    "after = data.shape[0]\n",
    "\n",
    "excluded = before - after\n",
    "print('Number of patients before exclusion: ', before)\n",
    "print('Number of patients after exclusion: ', after)\n",
    "print('Number of patients excluded with this criteria: ', excluded)"
   ]
  },
  {
   "cell_type": "markdown",
   "id": "NiWn9OMjwJeE",
   "metadata": {
    "id": "NiWn9OMjwJeE"
   },
   "source": [
    "#Renaming and Merging Response Values"
   ]
  },
  {
   "cell_type": "code",
   "execution_count": null,
   "id": "oLpHsxhlyEd0",
   "metadata": {
    "colab": {
     "base_uri": "https://localhost:8080/"
    },
    "executionInfo": {
     "elapsed": 42,
     "status": "ok",
     "timestamp": 1691023206829,
     "user": {
      "displayName": "Mert Karabacak",
      "userId": "14308977132914475412"
     },
     "user_tz": 240
    },
    "id": "oLpHsxhlyEd0",
    "outputId": "9d6ace5d-87bb-40a2-a6b5-721cbd137bf0"
   },
   "outputs": [],
   "source": [
    "#Simplify the column 'HISTOLOGY'.\n",
    "\n",
    "data.loc[data['HISTOLOGY'] == 9530, 'HISTOLOGY'] = 'Meningioma (NOS)'\n",
    "data.loc[data['HISTOLOGY'] == 9531, 'HISTOLOGY'] = 'Meningothelial meningioma'\n",
    "data.loc[data['HISTOLOGY'] == 9532, 'HISTOLOGY'] = 'Fibrous meningioma'\n",
    "data.loc[data['HISTOLOGY'] == 9533, 'HISTOLOGY'] = 'Psammomatous meningioma'\n",
    "data.loc[data['HISTOLOGY'] == 9534, 'HISTOLOGY'] = 'Angiomatous meningioma'\n",
    "data.loc[data['HISTOLOGY'] == 9535, 'HISTOLOGY'] = 'Hemangioblastic meningioma'\n",
    "data.loc[data['HISTOLOGY'] == 9537, 'HISTOLOGY'] = 'Transitional meningioma'\n",
    "data.loc[data['HISTOLOGY'] == 9538, 'HISTOLOGY'] = 'Clear cell/rhabdoid meningioma'\n",
    "data.loc[data['HISTOLOGY'] == 9539, 'HISTOLOGY'] = 'Atypical meningioma/meningeal sarcomatosis'\n",
    "\n",
    "data['HISTOLOGY'].value_counts(normalize=False, dropna=False)"
   ]
  },
  {
   "cell_type": "code",
   "execution_count": null,
   "id": "6Fqa-aPrCPzH",
   "metadata": {
    "colab": {
     "base_uri": "https://localhost:8080/"
    },
    "executionInfo": {
     "elapsed": 39,
     "status": "ok",
     "timestamp": 1691023206829,
     "user": {
      "displayName": "Mert Karabacak",
      "userId": "14308977132914475412"
     },
     "user_tz": 240
    },
    "id": "6Fqa-aPrCPzH",
    "outputId": "a66f5a24-2fde-407e-c406-105b15f49540"
   },
   "outputs": [],
   "source": [
    "#Simplify the column 'LATERALITY'.\n",
    "\n",
    "data.loc[data['LATERALITY'] == 'Not applicable', 'LATERALITY'] = 'Unknown'\n",
    "\n",
    "data['LATERALITY'].value_counts(normalize=False, dropna=False)"
   ]
  },
  {
   "cell_type": "code",
   "execution_count": null,
   "id": "vEJdh89hFNkV",
   "metadata": {
    "colab": {
     "base_uri": "https://localhost:8080/"
    },
    "executionInfo": {
     "elapsed": 36,
     "status": "ok",
     "timestamp": 1691023206830,
     "user": {
      "displayName": "Mert Karabacak",
      "userId": "14308977132914475412"
     },
     "user_tz": 240
    },
    "id": "vEJdh89hFNkV",
    "outputId": "6688eb5d-c7ef-4908-c92d-7d7ecb68742f"
   },
   "outputs": [],
   "source": [
    "#Simplify the column 'TUMOR_SIZE'.\n",
    "\n",
    "data.loc[data['TUMOR_SIZE'] == 'Microscopic foci only', 'TUMOR_SIZE'] = 'Unknown'\n",
    "data.loc[data['TUMOR_SIZE'] == 'No mass or tumor found', 'TUMOR_SIZE'] = 'Unknown'\n",
    "\n",
    "data['TUMOR_SIZE'].value_counts(normalize=False, dropna=False)"
   ]
  },
  {
   "cell_type": "code",
   "execution_count": null,
   "id": "s45Wlf7uHAkp",
   "metadata": {
    "colab": {
     "base_uri": "https://localhost:8080/"
    },
    "executionInfo": {
     "elapsed": 33,
     "status": "ok",
     "timestamp": 1691023206830,
     "user": {
      "displayName": "Mert Karabacak",
      "userId": "14308977132914475412"
     },
     "user_tz": 240
    },
    "id": "s45Wlf7uHAkp",
    "outputId": "d3e9cce6-5406-451d-da54-f20a32750699"
   },
   "outputs": [],
   "source": [
    "#Create the column 'RESECTIVE_SURGERY'.\n",
    "\n",
    "data.loc[data['RX_SUMM_SURG_PRIM_SITE'] == 'Gross total resection', 'RESECTIVE_SURGERY'] = 'Yes'\n",
    "data.loc[data['RX_SUMM_SURG_PRIM_SITE'] == 'Subtotal resection', 'RESECTIVE_SURGERY'] = 'Yes'\n",
    "data.loc[data['RX_SUMM_SURG_PRIM_SITE'] == 'Surgery was performed but extent of resection is unknown', 'RESECTIVE_SURGERY'] = 'Yes'\n",
    "data.loc[data['RX_SUMM_SURG_PRIM_SITE'] == 'Biopsy', 'RESECTIVE_SURGERY'] = 'No'\n",
    "data.loc[data['RX_SUMM_SURG_PRIM_SITE'] == 'No surgery was performed', 'RESECTIVE_SURGERY'] = 'No'\n",
    "data.loc[data['RX_SUMM_SURG_PRIM_SITE'] == 'Gross total lobectomy', 'RESECTIVE_SURGERY'] = 'Yes'\n",
    "data.loc[data['RX_SUMM_SURG_PRIM_SITE'] == 'Partial lobectomy', 'RESECTIVE_SURGERY'] = 'Yes'\n",
    "data.loc[data['RX_SUMM_SURG_PRIM_SITE'] == 'Resection of tumor of spinal cord or nerve', 'RESECTIVE_SURGERY'] = 'Yes'\n",
    "data.loc[data['RX_SUMM_SURG_PRIM_SITE'] == 'Tumor destruction', 'RESECTIVE_SURGERY'] = 'Yes'\n",
    "data.loc[data['RX_SUMM_SURG_PRIM_SITE'] == 'Unknown', 'RESECTIVE_SURGERY'] = 'Unknown'\n",
    "\n",
    "data['RESECTIVE_SURGERY'].value_counts(normalize=False, dropna=False)"
   ]
  },
  {
   "cell_type": "code",
   "execution_count": null,
   "id": "JSzDfOEzFyk0",
   "metadata": {
    "colab": {
     "base_uri": "https://localhost:8080/"
    },
    "executionInfo": {
     "elapsed": 30,
     "status": "ok",
     "timestamp": 1691023206830,
     "user": {
      "displayName": "Mert Karabacak",
      "userId": "14308977132914475412"
     },
     "user_tz": 240
    },
    "id": "JSzDfOEzFyk0",
    "outputId": "3b48dcdf-6c63-4097-a61e-fab4c1ac63c0"
   },
   "outputs": [],
   "source": [
    "#Create the column 'EXTENT_OF_RESECTION'.\n",
    "\n",
    "data.loc[data['RX_SUMM_SURG_PRIM_SITE'] == 'Gross total resection', 'EXTENT_OF_RESECTION'] = 'Gross total resection'\n",
    "data.loc[data['RX_SUMM_SURG_PRIM_SITE'] == 'Subtotal resection', 'EXTENT_OF_RESECTION'] = 'Subtotal resection'\n",
    "data.loc[data['RX_SUMM_SURG_PRIM_SITE'] == 'Surgery was performed but extent of resection is unknown', 'EXTENT_OF_RESECTION'] = 'Unknown'\n",
    "data.loc[data['RX_SUMM_SURG_PRIM_SITE'] == 'Biopsy', 'EXTENT_OF_RESECTION'] = 'No resective surgery was performed'\n",
    "data.loc[data['RX_SUMM_SURG_PRIM_SITE'] == 'No surgery was performed', 'EXTENT_OF_RESECTION'] = 'No resective surgery was performed'\n",
    "data.loc[data['RX_SUMM_SURG_PRIM_SITE'] == 'Gross total lobectomy', 'EXTENT_OF_RESECTION'] = 'Unknown'\n",
    "data.loc[data['RX_SUMM_SURG_PRIM_SITE'] == 'Partial lobectomy', 'EXTENT_OF_RESECTION'] = 'Unknown'\n",
    "data.loc[data['RX_SUMM_SURG_PRIM_SITE'] == 'Resection of tumor of spinal cord or nerve', 'EXTENT_OF_RESECTION'] = 'Unknown'\n",
    "data.loc[data['RX_SUMM_SURG_PRIM_SITE'] == 'Tumor destruction', 'EXTENT_OF_RESECTION'] = 'Unknown'\n",
    "data.loc[data['RX_SUMM_SURG_PRIM_SITE'] == 'Unknown', 'EXTENT_OF_RESECTION'] = 'Unknown'\n",
    "\n",
    "data = data.drop(['RX_SUMM_SURG_PRIM_SITE'], axis=1)\n",
    "\n",
    "data['EXTENT_OF_RESECTION'].value_counts(normalize=False, dropna=False)"
   ]
  },
  {
   "cell_type": "code",
   "execution_count": null,
   "id": "Kyi0uOBvIspy",
   "metadata": {
    "colab": {
     "base_uri": "https://localhost:8080/"
    },
    "executionInfo": {
     "elapsed": 27,
     "status": "ok",
     "timestamp": 1691023206830,
     "user": {
      "displayName": "Mert Karabacak",
      "userId": "14308977132914475412"
     },
     "user_tz": 240
    },
    "id": "Kyi0uOBvIspy",
    "outputId": "366255eb-5f19-4910-aec1-cb510bf4cf53"
   },
   "outputs": [],
   "source": [
    "#Simplify the column 'PHASE_I_COMBINED' in a new column 'PHASE_I_RADIOTHERAPY'.\n",
    "\n",
    "data.loc[data['PHASE_I_COMBINED'] == 'No radiation treatment', 'PHASE_I_RADIOTHERAPY'] = 'No'\n",
    "data.loc[data['PHASE_I_COMBINED'] == 'Unknown', 'PHASE_I_RADIOTHERAPY'] = 'Unknown'\n",
    "data['PHASE_I_RADIOTHERAPY'] = data['PHASE_I_RADIOTHERAPY'].fillna('Yes')\n",
    "data = data.drop(['PHASE_I_COMBINED'], axis=1)\n",
    "\n",
    "data['PHASE_I_RADIOTHERAPY'].value_counts(normalize=False, dropna=False)"
   ]
  },
  {
   "cell_type": "code",
   "execution_count": null,
   "id": "UIzJjD36NMsz",
   "metadata": {
    "colab": {
     "base_uri": "https://localhost:8080/"
    },
    "executionInfo": {
     "elapsed": 24,
     "status": "ok",
     "timestamp": 1691023206830,
     "user": {
      "displayName": "Mert Karabacak",
      "userId": "14308977132914475412"
     },
     "user_tz": 240
    },
    "id": "UIzJjD36NMsz",
    "outputId": "7333e003-38b6-40bb-e436-b7cb419ffd38"
   },
   "outputs": [],
   "source": [
    "#Simplify the column 'PHASE_II_COMBINED' in a new column 'PHASE_II_RADIOTHERAPY'.\n",
    "\n",
    "data.loc[data['PHASE_II_COMBINED'] == 'No radiation treatment', 'PHASE_II_RADIOTHERAPY'] = 'No'\n",
    "data.loc[data['PHASE_II_COMBINED'] == 'Unknown', 'PHASE_II_RADIOTHERAPY'] = 'Unknown'\n",
    "data['PHASE_II_RADIOTHERAPY'] = data['PHASE_II_RADIOTHERAPY'].fillna('Yes')\n",
    "data = data.drop(['PHASE_II_COMBINED'], axis=1)\n",
    "\n",
    "data['PHASE_II_RADIOTHERAPY'].value_counts(normalize=False, dropna=False)"
   ]
  },
  {
   "cell_type": "code",
   "execution_count": null,
   "id": "IUlQnJnBPJtN",
   "metadata": {
    "colab": {
     "base_uri": "https://localhost:8080/"
    },
    "executionInfo": {
     "elapsed": 22,
     "status": "ok",
     "timestamp": 1691023206831,
     "user": {
      "displayName": "Mert Karabacak",
      "userId": "14308977132914475412"
     },
     "user_tz": 240
    },
    "id": "IUlQnJnBPJtN",
    "outputId": "83dd167b-d0e4-4884-a8cc-56421c7b8aa2"
   },
   "outputs": [],
   "source": [
    "#Simplify the column 'PHASE_III_COMBINED' in a new column 'PHASE_III_RADIOTHERAPY'.\n",
    "\n",
    "data.loc[data['PHASE_III_COMBINED'] == 'No radiation treatment', 'PHASE_III_RADIOTHERAPY'] = 'No'\n",
    "data.loc[data['PHASE_III_COMBINED'] == 'Unknown', 'PHASE_III_RADIOTHERAPY'] = 'Unknown'\n",
    "data['PHASE_III_RADIOTHERAPY'] = data['PHASE_III_RADIOTHERAPY'].fillna('Yes')\n",
    "data = data.drop(['PHASE_III_COMBINED'], axis=1)\n",
    "\n",
    "data['PHASE_III_RADIOTHERAPY'].value_counts(normalize=False, dropna=False)"
   ]
  },
  {
   "cell_type": "code",
   "execution_count": null,
   "id": "9JyThYAfPS03",
   "metadata": {
    "colab": {
     "base_uri": "https://localhost:8080/"
    },
    "executionInfo": {
     "elapsed": 20,
     "status": "ok",
     "timestamp": 1691023206831,
     "user": {
      "displayName": "Mert Karabacak",
      "userId": "14308977132914475412"
     },
     "user_tz": 240
    },
    "id": "9JyThYAfPS03",
    "outputId": "8965c1aa-2509-4256-d335-f9810c2f42a2"
   },
   "outputs": [],
   "source": [
    "#Merge 'PHASE_I_RADIOTHERAPY', 'PHASE_II_RADIOTHERAPY', and 'PHASE_III_RADIOTHERAPY' in 'RADIATION_TREATMENT' column.\n",
    "\n",
    "data.loc[(data['PHASE_I_RADIOTHERAPY'] == 'Yes') | (data['PHASE_II_RADIOTHERAPY'] == 'Yes') | (data['PHASE_III_RADIOTHERAPY'] == 'Yes') , 'RADIATION_TREATMENT'] = 'Yes'\n",
    "data.loc[(data['PHASE_I_RADIOTHERAPY'] == 'No') & (data['PHASE_II_RADIOTHERAPY'] == 'No') & (data['PHASE_III_RADIOTHERAPY'] == 'No') , 'RADIATION_TREATMENT'] = 'No'\n",
    "data['RADIATION_TREATMENT'] = data['RADIATION_TREATMENT'].fillna('Unknown')\n",
    "data = data.drop(['PHASE_I_RADIOTHERAPY', 'PHASE_II_RADIOTHERAPY', 'PHASE_III_RADIOTHERAPY'], axis=1)\n",
    "\n",
    "data['RADIATION_TREATMENT'].value_counts(normalize=False, dropna=False)"
   ]
  },
  {
   "cell_type": "code",
   "execution_count": null,
   "id": "vUXG_P3pptMJ",
   "metadata": {
    "id": "vUXG_P3pptMJ"
   },
   "outputs": [],
   "source": [
    "#Save filtered data.\n",
    "\n",
    "data.to_csv('/content/drive/MyDrive/NCDB-Meningioma/data.csv')"
   ]
  },
  {
   "cell_type": "markdown",
   "id": "-jY4PIH9pxSL",
   "metadata": {
    "id": "-jY4PIH9pxSL"
   },
   "source": [
    "#Imputation"
   ]
  },
  {
   "cell_type": "code",
   "execution_count": null,
   "id": "11efb52b",
   "metadata": {
    "colab": {
     "base_uri": "https://localhost:8080/"
    },
    "executionInfo": {
     "elapsed": 16,
     "status": "ok",
     "timestamp": 1691023206831,
     "user": {
      "displayName": "Mert Karabacak",
      "userId": "14308977132914475412"
     },
     "user_tz": 240
    },
    "id": "11efb52b",
    "outputId": "312e5368-2a85-4285-8f8a-844b9cf77cd1"
   },
   "outputs": [],
   "source": [
    "#Define numerical and categorical columns.\n",
    "\n",
    "num_cols = list(data.select_dtypes('number').columns)\n",
    "print('Numerical columns: {}'.format(num_cols), '\\n')\n",
    "\n",
    "cat_cols = list(data.select_dtypes('object').columns)\n",
    "print('Categorical columns: {}'.format(cat_cols))"
   ]
  },
  {
   "cell_type": "code",
   "execution_count": null,
   "id": "282afb2e",
   "metadata": {
    "id": "282afb2e"
   },
   "outputs": [],
   "source": [
    "#Remove outcomes.\n",
    "\n",
    "num_cols_remove = ['DX_LASTCONTACT_DEATH_MONTHS']\n",
    "cat_cols_remove = ['PUF_VITAL_STATUS']\n",
    "\n",
    "num_cols = [i for i in num_cols if i not in num_cols_remove]\n",
    "cat_cols = [i for i in cat_cols if i not in cat_cols_remove]"
   ]
  },
  {
   "cell_type": "code",
   "execution_count": null,
   "id": "f7a6bff0",
   "metadata": {
    "colab": {
     "base_uri": "https://localhost:8080/"
    },
    "executionInfo": {
     "elapsed": 13,
     "status": "ok",
     "timestamp": 1691023206831,
     "user": {
      "displayName": "Mert Karabacak",
      "userId": "14308977132914475412"
     },
     "user_tz": 240
    },
    "id": "f7a6bff0",
    "outputId": "e5c7c76d-ceae-4623-9029-3f80d3e1bba1"
   },
   "outputs": [],
   "source": [
    "#Check missing values for numerical columns.\n",
    "\n",
    "missing_num = data[num_cols].isnull().mean().round(4).mul(100).sort_values(ascending=False)\n",
    "\n",
    "print(missing_num, '\\n')\n",
    "\n",
    "missing_num = pd.DataFrame(missing_num)\n",
    "\n",
    "missing_num.columns = ['Value']\n",
    "\n",
    "missing_num = missing_num[missing_num['Value'] > 0]\n",
    "\n",
    "print('Numerical variables with missing values: ', list(missing_num.index), '\\n')\n",
    "\n",
    "print('Number of numerical variables with missing values: ', len(list(missing_num.index)), '\\n')\n",
    "\n",
    "missing_num = missing_num[missing_num['Value'] > 25]\n",
    "\n",
    "missing_num = list(missing_num.index)\n",
    "\n",
    "print('Excluded numerical variables: ', missing_num)"
   ]
  },
  {
   "cell_type": "code",
   "execution_count": null,
   "id": "e128cfb5",
   "metadata": {
    "id": "e128cfb5"
   },
   "outputs": [],
   "source": [
    "#Drop numerical columns with missing values over 25%.\n",
    "\n",
    "data.drop(missing_num, axis=1, inplace=True)"
   ]
  },
  {
   "cell_type": "code",
   "execution_count": null,
   "id": "4756b292",
   "metadata": {
    "id": "4756b292"
   },
   "outputs": [],
   "source": [
    "#Define new numerical columns.\n",
    "\n",
    "num_cols = [x for x in num_cols if x not in missing_num]"
   ]
  },
  {
   "cell_type": "code",
   "execution_count": null,
   "id": "ff8609cd",
   "metadata": {
    "id": "ff8609cd"
   },
   "outputs": [],
   "source": [
    "#Impute missing numerical values.\n",
    "\n",
    "num_imputer = KNNImputer(n_neighbors=5, weights='uniform', metric='nan_euclidean')\n",
    "data[num_cols] = num_imputer.fit_transform(data[num_cols])"
   ]
  },
  {
   "cell_type": "code",
   "execution_count": null,
   "id": "01b6490e",
   "metadata": {
    "colab": {
     "base_uri": "https://localhost:8080/"
    },
    "executionInfo": {
     "elapsed": 13,
     "status": "ok",
     "timestamp": 1691023207406,
     "user": {
      "displayName": "Mert Karabacak",
      "userId": "14308977132914475412"
     },
     "user_tz": 240
    },
    "id": "01b6490e",
    "outputId": "b06b4a0d-419e-4bdc-a93d-441a90b91761"
   },
   "outputs": [],
   "source": [
    "#Check missing values for categorical columns.\n",
    "\n",
    "missing_cat = data[cat_cols].isnull().mean().round(4).mul(100).sort_values(ascending=False)\n",
    "\n",
    "print(missing_cat, '\\n')\n",
    "\n",
    "missing_cat = pd.DataFrame(missing_cat)\n",
    "\n",
    "missing_cat.columns = ['Value']\n",
    "\n",
    "missing_cat = missing_cat[missing_cat['Value'] > 0]\n",
    "\n",
    "print('Categorical variables with missing values: ', list(missing_cat.index), '\\n')\n",
    "\n",
    "print('Number of categorical variables with missing values: ', len(list(missing_cat.index)), '\\n')\n",
    "\n",
    "missing_cat = missing_cat[missing_cat['Value'] > 25]\n",
    "\n",
    "missing_cat = list(missing_cat.index)\n",
    "\n",
    "print('Excluded categorical variables: ', missing_cat)"
   ]
  },
  {
   "cell_type": "code",
   "execution_count": null,
   "id": "89d3cdc4",
   "metadata": {
    "id": "89d3cdc4"
   },
   "outputs": [],
   "source": [
    "#Drop categorical columns with missing values over 25%.\n",
    "\n",
    "data.drop(missing_cat, axis=1, inplace=True)"
   ]
  },
  {
   "cell_type": "code",
   "execution_count": null,
   "id": "680fe385",
   "metadata": {
    "id": "680fe385"
   },
   "outputs": [],
   "source": [
    "#Define new categorical columns.\n",
    "\n",
    "cat_cols = [x for x in cat_cols if x not in missing_cat]"
   ]
  },
  {
   "cell_type": "code",
   "execution_count": null,
   "id": "9250b986",
   "metadata": {
    "id": "9250b986"
   },
   "outputs": [],
   "source": [
    "#Replace missing categorical values with 'Unknown'.\n",
    "\n",
    "for col in cat_cols:\n",
    "    data[col].fillna(value='Unknown', inplace=True)"
   ]
  },
  {
   "cell_type": "code",
   "execution_count": null,
   "id": "4336ba8a",
   "metadata": {
    "id": "4336ba8a"
   },
   "outputs": [],
   "source": [
    "#Save imputed data.\n",
    "\n",
    "data.to_csv('/content/drive/MyDrive/NCDB-Meningioma/imputed_data.csv')"
   ]
  },
  {
   "cell_type": "markdown",
   "id": "KrwBUN_YqMbV",
   "metadata": {
    "id": "KrwBUN_YqMbV"
   },
   "source": [
    "#Final Touches"
   ]
  },
  {
   "cell_type": "code",
   "execution_count": null,
   "id": "2289a865",
   "metadata": {
    "id": "2289a865"
   },
   "outputs": [],
   "source": [
    "#Change variable names to field names.\n",
    "\n",
    "data_dictionary = pd.read_csv(\"/content/drive/MyDrive/NCDB-Meningioma/Data_Dictionary.csv\", encoding = 'latin1', index_col = None, low_memory = False)\n",
    "FieldNames = dict(zip(data_dictionary['Variable'], data_dictionary['Field Name']))\n",
    "data.columns = data.columns.map(FieldNames)"
   ]
  },
  {
   "cell_type": "code",
   "execution_count": null,
   "id": "cc12859a",
   "metadata": {
    "id": "cc12859a"
   },
   "outputs": [],
   "source": [
    "#Manual label encoding.\n",
    "\n",
    "data.loc[data['Histology'] == 'Meningioma (NOS)', 'Histology'] = 0\n",
    "data.loc[data['Histology'] == 'Meningothelial meningioma', 'Histology'] = 1\n",
    "data.loc[data['Histology'] == 'Fibrous meningioma', 'Histology'] = 2\n",
    "data.loc[data['Histology'] == 'Psammomatous meningioma', 'Histology'] = 3\n",
    "data.loc[data['Histology'] == 'Angiomatous meningioma', 'Histology'] = 4\n",
    "data.loc[data['Histology'] == 'Hemangioblastic meningioma', 'Histology'] = 5\n",
    "data.loc[data['Histology'] == 'Transitional meningioma', 'Histology'] = 6\n",
    "data.loc[data['Histology'] == 'Clear cell/rhabdoid meningioma', 'Histology'] = 7\n",
    "data.loc[data['Histology'] == 'Atypical meningioma/meningeal sarcomatosis', 'Histology'] = 8\n",
    "\n",
    "data.loc[data['Grade'] == 'Grade II', 'Grade'] = 0\n",
    "data.loc[data['Grade'] == 'Grade III', 'Grade'] = 1\n",
    "\n",
    "data.loc[data['Facility Type'] == 'Academic/Research Program', 'Facility Type'] = 0\n",
    "data.loc[data['Facility Type'] == 'Comprehensive Community Cancer Program', 'Facility Type'] = 1\n",
    "data.loc[data['Facility Type'] == 'Integrated Network Cancer Program', 'Facility Type'] = 2\n",
    "data.loc[data['Facility Type'] == 'Community Cancer Program', 'Facility Type'] = 3\n",
    "data.loc[data['Facility Type'] == 'Other or Unknown', 'Facility Type'] = 4\n",
    "\n",
    "data.loc[data['Facility Location'] == 'South Atlantic', 'Facility Location'] = 0\n",
    "data.loc[data['Facility Location'] == 'East North Central', 'Facility Location'] = 1\n",
    "data.loc[data['Facility Location'] == 'Middle Atlantic', 'Facility Location'] = 2\n",
    "data.loc[data['Facility Location'] == 'Pacific', 'Facility Location'] = 3\n",
    "data.loc[data['Facility Location'] == 'West South Central', 'Facility Location'] = 4\n",
    "data.loc[data['Facility Location'] == 'West North Central', 'Facility Location'] = 5\n",
    "data.loc[data['Facility Location'] == 'East South Central', 'Facility Location'] = 6\n",
    "data.loc[data['Facility Location'] == 'New England', 'Facility Location'] = 7\n",
    "data.loc[data['Facility Location'] == 'Mountain', 'Facility Location'] = 8\n",
    "data.loc[data['Facility Location'] == 'Unknown or Other', 'Facility Location'] = 9\n",
    "\n",
    "data.loc[data['Sex'] == 'Female', 'Sex'] = 0\n",
    "data.loc[data['Sex'] == 'Male', 'Sex'] = 1\n",
    "\n",
    "data.loc[data['Race'] == 'White', 'Race'] = 0\n",
    "data.loc[data['Race'] == 'Black', 'Race'] = 1\n",
    "data.loc[data['Race'] == 'Asian Indian or Pakistani', 'Race'] = 2\n",
    "data.loc[data['Race'] == 'Chinese', 'Race'] = 3\n",
    "data.loc[data['Race'] == 'Filipino', 'Race'] = 4\n",
    "data.loc[data['Race'] == 'American Indian, Aleutian, or Eskimo', 'Race'] = 5\n",
    "data.loc[data['Race'] == 'Vietnamese', 'Race'] = 6\n",
    "data.loc[data['Race'] == 'Korean', 'Race'] = 7\n",
    "data.loc[data['Race'] == 'Japanese', 'Race'] = 8\n",
    "data.loc[data['Race'] == 'Hawaiian', 'Race'] = 9\n",
    "data.loc[data['Race'] == 'Other or Unknown', 'Race'] = 10\n",
    "\n",
    "data.loc[data['Hispanic Ethnicity'] == 'No', 'Hispanic Ethnicity'] = 0\n",
    "data.loc[data['Hispanic Ethnicity'] == 'Yes', 'Hispanic Ethnicity'] = 1\n",
    "data.loc[data['Hispanic Ethnicity'] == 'Unknown', 'Hispanic Ethnicity'] = 2\n",
    "\n",
    "data.loc[data['Primary Payor'] == 'Private insurance', 'Primary Payor'] = 0\n",
    "data.loc[data['Primary Payor'] == 'Medicare', 'Primary Payor'] = 1\n",
    "data.loc[data['Primary Payor'] == 'Medicaid', 'Primary Payor'] = 2\n",
    "data.loc[data['Primary Payor'] == 'Other government', 'Primary Payor'] = 3\n",
    "data.loc[data['Primary Payor'] == 'Not insured', 'Primary Payor'] = 4\n",
    "data.loc[data['Primary Payor'] == 'Unknown', 'Primary Payor'] = 5\n",
    "\n",
    "data.loc[data['Charlson-Deyo Score'] == '0', 'Charlson-Deyo Score'] = 0\n",
    "data.loc[data['Charlson-Deyo Score'] == '1', 'Charlson-Deyo Score'] = 1\n",
    "data.loc[data['Charlson-Deyo Score'] == '2', 'Charlson-Deyo Score'] = 2\n",
    "data.loc[data['Charlson-Deyo Score'] == 'Greater than 3', 'Charlson-Deyo Score'] = 3\n",
    "\n",
    "data.loc[data['Laterality'] == 'Right', 'Laterality'] = 0\n",
    "data.loc[data['Laterality'] == 'Left', 'Laterality'] = 1\n",
    "data.loc[data['Laterality'] == 'Bilateral', 'Laterality'] = 2\n",
    "data.loc[data['Laterality'] == 'Midline', 'Laterality'] = 3\n",
    "data.loc[data['Laterality'] == 'Unknown', 'Laterality'] = 4\n",
    "\n",
    "data.loc[data['Diagnostic Biopsy'] == 'No', 'Diagnostic Biopsy'] = 0\n",
    "data.loc[data['Diagnostic Biopsy'] == 'Yes', 'Diagnostic Biopsy'] = 1\n",
    "data.loc[data['Diagnostic Biopsy'] == 'Unknown', 'Diagnostic Biopsy'] = 2\n",
    "\n",
    "data.loc[data['Karnofsky Performance Scale'] == 'KPS 0-20', 'Karnofsky Performance Scale'] = 0\n",
    "data.loc[data['Karnofsky Performance Scale'] == 'KPS 21-40', 'Karnofsky Performance Scale'] = 1\n",
    "data.loc[data['Karnofsky Performance Scale'] == 'KPS 41-60', 'Karnofsky Performance Scale'] = 2\n",
    "data.loc[data['Karnofsky Performance Scale'] == 'KPS 61-80', 'Karnofsky Performance Scale'] = 3\n",
    "data.loc[data['Karnofsky Performance Scale'] == 'KPS 81-100', 'Karnofsky Performance Scale'] = 4\n",
    "data.loc[data['Karnofsky Performance Scale'] == 'Unknown', 'Karnofsky Performance Scale'] = 5\n",
    "\n",
    "data.loc[data['Focality'] == 'Unifocal', 'Focality'] = 0\n",
    "data.loc[data['Focality'] == 'Multifocal', 'Focality'] = 1\n",
    "data.loc[data['Focality'] == 'Unknown', 'Focality'] = 2\n",
    "\n",
    "data.loc[data['Tumor Size'] == '< 2 cm', 'Tumor Size'] = 0\n",
    "data.loc[data['Tumor Size'] == '2 - 3.9 cm', 'Tumor Size'] = 1\n",
    "data.loc[data['Tumor Size'] == '4 - 5.9 cm', 'Tumor Size'] = 2\n",
    "data.loc[data['Tumor Size'] == '6 - 7.9 cm', 'Tumor Size'] = 3\n",
    "data.loc[data['Tumor Size'] == '8 - 9.9 cm', 'Tumor Size'] = 4\n",
    "data.loc[data['Tumor Size'] == '10 - 11.9 cm', 'Tumor Size'] = 5\n",
    "data.loc[data['Tumor Size'] == '12 - 13.9 cm', 'Tumor Size'] = 6\n",
    "data.loc[data['Tumor Size'] == '14 - 15.9 cm', 'Tumor Size'] = 7\n",
    "data.loc[data['Tumor Size'] == '16 - 17.9 cm', 'Tumor Size'] = 8\n",
    "data.loc[data['Tumor Size'] == '18 - 19.9 cm', 'Tumor Size'] = 9\n",
    "data.loc[data['Tumor Size'] == '> 20 cm', 'Tumor Size'] = 10\n",
    "data.loc[data['Tumor Size'] == 'Unknown', 'Tumor Size'] = 11\n",
    "\n",
    "data.loc[data['Ki-67 Labeling Index'] == '0-20%', 'Ki-67 Labeling Index'] = 0\n",
    "data.loc[data['Ki-67 Labeling Index'] == '21-40%', 'Ki-67 Labeling Index'] = 1\n",
    "data.loc[data['Ki-67 Labeling Index'] == '41-60%', 'Ki-67 Labeling Index'] = 2\n",
    "data.loc[data['Ki-67 Labeling Index'] == '61-80%', 'Ki-67 Labeling Index'] = 3\n",
    "data.loc[data['Ki-67 Labeling Index'] == '81-100%', 'Ki-67 Labeling Index'] = 4\n",
    "data.loc[data['Ki-67 Labeling Index'] == 'Normal (no percentage available)', 'Ki-67 Labeling Index'] = 5\n",
    "data.loc[data['Ki-67 Labeling Index'] == 'Slightly elevated (no percentage available)', 'Ki-67 Labeling Index'] = 6\n",
    "data.loc[data['Ki-67 Labeling Index'] == 'Elevated (no percentage available)', 'Ki-67 Labeling Index'] = 7\n",
    "data.loc[data['Ki-67 Labeling Index'] == 'Unknown', 'Ki-67 Labeling Index'] = 8\n",
    "\n",
    "data.loc[data['Extent of Resection'] == 'No resective surgery was performed', 'Extent of Resection'] = 0\n",
    "data.loc[data['Extent of Resection'] == 'Gross total resection', 'Extent of Resection'] = 1\n",
    "data.loc[data['Extent of Resection'] == 'Subtotal resection', 'Extent of Resection'] = 2\n",
    "data.loc[data['Extent of Resection'] == 'Unknown', 'Extent of Resection'] = 3\n",
    "\n",
    "data.loc[data['Resective Surgery'] == 'No', 'Resective Surgery'] = 0\n",
    "data.loc[data['Resective Surgery'] == 'Yes', 'Resective Surgery'] = 1\n",
    "data.loc[data['Resective Surgery'] == 'Unknown', 'Resective Surgery'] = 2\n",
    "\n",
    "data.loc[data['Radiation Treatment'] == 'No', 'Radiation Treatment'] = 0\n",
    "data.loc[data['Radiation Treatment'] == 'Yes', 'Radiation Treatment'] = 1\n",
    "data.loc[data['Radiation Treatment'] == 'Unknown', 'Radiation Treatment'] = 2\n",
    "\n",
    "columns = ['Histology', 'Grade', 'Facility Type', 'Facility Location', 'Sex', 'Race', 'Hispanic Ethnicity','Primary Payor',\n",
    "          'Charlson-Deyo Score', 'Laterality', 'Diagnostic Biopsy', 'Karnofsky Performance Scale',\n",
    "           'Focality', 'Tumor Size', 'Extent of Resection', 'Resective Surgery', 'Radiation Treatment']\n",
    "\n",
    "for column in columns:\n",
    "    data[column] = data[column].astype(int)"
   ]
  },
  {
   "cell_type": "code",
   "execution_count": null,
   "id": "c5490d9b",
   "metadata": {
    "id": "c5490d9b"
   },
   "outputs": [],
   "source": [
    "#Save data for Gradio.\n",
    "\n",
    "gradio = data.copy()\n",
    "\n",
    "gradio.columns = gradio.columns.str.replace(' ', '_', regex=True)\n",
    "gradio.columns = gradio.columns.str.replace('-', '', regex=True)\n",
    "\n",
    "gradio.to_csv('/content/drive/MyDrive/NCDB-Meningioma/gradio_data.csv')"
   ]
  },
  {
   "cell_type": "code",
   "execution_count": null,
   "id": "1ENABv7xqmWs",
   "metadata": {
    "id": "1ENABv7xqmWs"
   },
   "outputs": [],
   "source": [
    "#Save final data.\n",
    "\n",
    "data.to_csv('/content/drive/MyDrive/NCDB-Meningioma/final_data.csv')"
   ]
  }
 ],
 "metadata": {
  "colab": {
   "machine_shape": "hm",
   "provenance": [
    {
     "file_id": "1Os7r6kq42uEWESOduq_gWdKQsCqFBd9N",
     "timestamp": 1690314436152
    },
    {
     "file_id": "1e8Fpu-pe7O0EfheLaEzbnWzODzKTABOB",
     "timestamp": 1690299650366
    },
    {
     "file_id": "1ivwXHlUcLdC8WZQo6Q6hf-MYahSQ88lq",
     "timestamp": 1681082527584
    },
    {
     "file_id": "1qkdhVqVX240vYpWuEeJY_DKFacob5ztC",
     "timestamp": 1680800063857
    },
    {
     "file_id": "1ggfw-q5XTxdzPn9nnqb4pk7uxKjkpaga",
     "timestamp": 1672250375960
    },
    {
     "file_id": "1g8wyPIRJw1XKU7zF_T4SgLWpAzCOvEQJ",
     "timestamp": 1671643302648
    },
    {
     "file_id": "1Nau1T8kYhu_teXcKnDyTzUTVNIRcruHN",
     "timestamp": 1671032966766
    },
    {
     "file_id": "1fRg4CV3EaBnihAqddzIHeCaU4bmkgUi3",
     "timestamp": 1669913930106
    },
    {
     "file_id": "1AXH9JUz2PztvXr-hpN3EzKrUTEbGW2Si",
     "timestamp": 1669306790787
    }
   ]
  },
  "environment": {
   "kernel": "python3",
   "name": "common-cpu.m100",
   "type": "gcloud",
   "uri": "gcr.io/deeplearning-platform-release/base-cpu:m100"
  },
  "gpuClass": "standard",
  "kernelspec": {
   "display_name": "Python 3 (ipykernel)",
   "language": "python",
   "name": "python3"
  },
  "language_info": {
   "codemirror_mode": {
    "name": "ipython",
    "version": 3
   },
   "file_extension": ".py",
   "mimetype": "text/x-python",
   "name": "python",
   "nbconvert_exporter": "python",
   "pygments_lexer": "ipython3",
   "version": "3.9.6"
  }
 },
 "nbformat": 4,
 "nbformat_minor": 5
}
